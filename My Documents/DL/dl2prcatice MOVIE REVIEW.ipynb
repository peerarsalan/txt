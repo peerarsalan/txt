{
 "cells": [
  {
   "cell_type": "code",
   "execution_count": 85,
   "id": "6f69941c",
   "metadata": {},
   "outputs": [],
   "source": [
    "import numpy as np\n",
    "from tensorflow import keras\n",
    "from tensorflow.keras.datasets import imdb\n",
    "from tensorflow.keras.models import Sequential\n",
    "from tensorflow.keras.layers import Dense,Embedding,Flatten\n",
    "from tensorflow.keras.preprocessing import sequence\n",
    "from tensorflow.keras.preprocessing.sequence import pad_sequences\n",
    "from tensorflow.keras.preprocessing.text import Tokenizer"
   ]
  },
  {
   "cell_type": "code",
   "execution_count": 86,
   "id": "9c245f4a",
   "metadata": {},
   "outputs": [],
   "source": [
    "max_words=10000\n",
    "(x_train,y_train),(x_test,y_test)=imdb.load_data(num_words=max_words)"
   ]
  },
  {
   "cell_type": "code",
   "execution_count": 87,
   "id": "3845b42b",
   "metadata": {},
   "outputs": [],
   "source": [
    "maxlen=200\n",
    "x_train=sequence.pad_sequences(x_train,maxlen=maxlen)\n",
    "x_test=sequence.pad_sequences(x_test,maxlen=maxlen)"
   ]
  },
  {
   "cell_type": "code",
   "execution_count": 88,
   "id": "68a8599d",
   "metadata": {},
   "outputs": [],
   "source": [
    "model=Sequential()\n",
    "model.add(Embedding(max_words,128,input_length=maxlen))\n",
    "model.add(Flatten())\n",
    "model.add(Dense(1,activation='sigmoid'))"
   ]
  },
  {
   "cell_type": "code",
   "execution_count": 89,
   "id": "703f7479",
   "metadata": {},
   "outputs": [],
   "source": [
    "model.compile(optimizer='adam',loss='binary_crossentropy',metrics=['accuracy'])"
   ]
  },
  {
   "cell_type": "code",
   "execution_count": 91,
   "id": "7b1b6326",
   "metadata": {},
   "outputs": [
    {
     "name": "stdout",
     "output_type": "stream",
     "text": [
      "Epoch 1/5\n",
      "782/782 [==============================] - 23s 29ms/step - loss: 0.3988 - accuracy: 0.8093 - val_loss: 0.2853 - val_accuracy: 0.8794\n",
      "Epoch 2/5\n",
      "782/782 [==============================] - 21s 27ms/step - loss: 0.1353 - accuracy: 0.9574 - val_loss: 0.3257 - val_accuracy: 0.8624\n",
      "Epoch 3/5\n",
      "782/782 [==============================] - 22s 28ms/step - loss: 0.0313 - accuracy: 0.9959 - val_loss: 0.3316 - val_accuracy: 0.8730\n",
      "Epoch 4/5\n",
      "782/782 [==============================] - 22s 28ms/step - loss: 0.0082 - accuracy: 0.9998 - val_loss: 0.3578 - val_accuracy: 0.8747\n",
      "Epoch 5/5\n",
      "782/782 [==============================] - 22s 29ms/step - loss: 0.0033 - accuracy: 1.0000 - val_loss: 0.3835 - val_accuracy: 0.8734\n"
     ]
    },
    {
     "data": {
      "text/plain": [
       "<keras.src.callbacks.History at 0x1e5dba69030>"
      ]
     },
     "execution_count": 91,
     "metadata": {},
     "output_type": "execute_result"
    }
   ],
   "source": [
    "batch_size=32\n",
    "epochs=5\n",
    "model.fit(x_train,y_train,batch_size=batch_size,epochs=epochs,validation_data=(x_test,y_test))"
   ]
  },
  {
   "cell_type": "code",
   "execution_count": 92,
   "id": "0ac55cd0",
   "metadata": {},
   "outputs": [
    {
     "name": "stdout",
     "output_type": "stream",
     "text": [
      "782/782 [==============================] - 3s 3ms/step - loss: 0.3835 - accuracy: 0.8734\n",
      "accuracy: 0.8733999729156494\n"
     ]
    }
   ],
   "source": [
    "loss,accuracy=model.evaluate(x_test,y_test)\n",
    "print(\"accuracy:\",accuracy)"
   ]
  },
  {
   "cell_type": "code",
   "execution_count": 98,
   "id": "b157946e",
   "metadata": {},
   "outputs": [],
   "source": [
    "new_data=[\n",
    "    \"This movie was fantastic! The acting was superb and the plot was gripping.\",\n",
    "    \"I couldn't stand this movie.The acting was terrible and the plot was nonsensical.\",\n",
    "    \"I was an average movie. Not great, but not terrible either\"\n",
    "]\n",
    "max_words=10000"
   ]
  },
  {
   "cell_type": "code",
   "execution_count": 99,
   "id": "260c5d8d",
   "metadata": {},
   "outputs": [],
   "source": [
    "tokenizer=Tokenizer(num_words=max_words)\n",
    "tokenizer.fit_on_texts(new_data)"
   ]
  },
  {
   "cell_type": "code",
   "execution_count": 100,
   "id": "69acb3ff",
   "metadata": {},
   "outputs": [],
   "source": [
    "new_sequences=tokenizer.texts_to_sequences(new_data)\n",
    "maxlen=200\n",
    "new_sequences=pad_sequences(new_sequences,maxlen=maxlen)"
   ]
  },
  {
   "cell_type": "code",
   "execution_count": 101,
   "id": "7f05027e",
   "metadata": {},
   "outputs": [
    {
     "name": "stdout",
     "output_type": "stream",
     "text": [
      "1/1 [==============================] - 0s 22ms/step\n"
     ]
    }
   ],
   "source": [
    "prediction=model.predict(new_sequences)\n",
    "predicted_labels=[1 if pred > 0.5 else 0 for pred in predictions]"
   ]
  },
  {
   "cell_type": "code",
   "execution_count": 102,
   "id": "aab0ef22",
   "metadata": {},
   "outputs": [
    {
     "name": "stdout",
     "output_type": "stream",
     "text": [
      "Review:'This movie was fantastic! The acting was superb and the plot was gripping.'--> prediction label:Positive\n",
      "Review:'I couldn't stand this movie.The acting was terrible and the plot was nonsensical.'--> prediction label:negative\n",
      "Review:'I was an average movie. Not great, but not terrible either'--> prediction label:Positive\n"
     ]
    }
   ],
   "source": [
    "for i,review in enumerate(new_data):\n",
    "    if predicted_labels[i]==1:\n",
    "        print(f\"Review:'{review}'--> prediction label:Positive\")\n",
    "    else:\n",
    "        print(f\"Review:'{review}'--> prediction label:negative\")"
   ]
  },
  {
   "cell_type": "code",
   "execution_count": null,
   "id": "47a1f54e",
   "metadata": {},
   "outputs": [],
   "source": []
  }
 ],
 "metadata": {
  "kernelspec": {
   "display_name": "Python 3 (ipykernel)",
   "language": "python",
   "name": "python3"
  },
  "language_info": {
   "codemirror_mode": {
    "name": "ipython",
    "version": 3
   },
   "file_extension": ".py",
   "mimetype": "text/x-python",
   "name": "python",
   "nbconvert_exporter": "python",
   "pygments_lexer": "ipython3",
   "version": "3.10.9"
  }
 },
 "nbformat": 4,
 "nbformat_minor": 5
}
